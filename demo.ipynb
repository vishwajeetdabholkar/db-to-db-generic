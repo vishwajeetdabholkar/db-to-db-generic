{
 "cells": [
  {
   "cell_type": "code",
   "execution_count": 1,
   "id": "acf51539",
   "metadata": {},
   "outputs": [],
   "source": [
    "import pyspark\n",
    "from pyspark.sql import SparkSession\n",
    "from pyspark import SparkContext, SparkConf \n",
    "from pyspark.sql.functions import * \n",
    "from pyspark.sql import DataFrame\n",
    "from logging import Logger\n",
    "import os\n",
    "import json"
   ]
  },
  {
   "cell_type": "code",
   "execution_count": 2,
   "id": "ec14cbec",
   "metadata": {},
   "outputs": [
    {
     "name": "stdout",
     "output_type": "stream",
     "text": [
      "importing Jupyter notebook from db_utils.ipynb\n"
     ]
    }
   ],
   "source": [
    "import import_ipynb\n",
    "import db_utils as dbu"
   ]
  },
  {
   "cell_type": "code",
   "execution_count": 3,
   "id": "61edd291",
   "metadata": {},
   "outputs": [],
   "source": [
    "SPARK_CONFIG = {\n",
    "    \"MASTER\": \"local[*]\",\n",
    "    \"settings\": {\n",
    "      \"spark.executor.cores\": \"1\",\n",
    "      \"spark.executor.memory\": \"1g\",\n",
    "      \"spark.driver.cores\": \"1\",\n",
    "      \"spark.driver.memory\": \"1g\",\n",
    "      \"spark.cores.max\": \"1\"\n",
    "    }\n",
    "}"
   ]
  },
  {
   "cell_type": "code",
   "execution_count": 4,
   "id": "b62d795a",
   "metadata": {},
   "outputs": [],
   "source": [
    "def init_spark_context() -> SparkContext:\n",
    "    \"\"\" init spark context \"\"\"\n",
    "\n",
    "    # os.environ['PYSPARK_SUBMIT_ARGS'] = f'--jars jars/postgresql-42.5.0 pyspark-shell'\n",
    "    conf = SparkConf()\n",
    "    conf.setMaster(SPARK_CONFIG['MASTER'])\n",
    "    conf.setAppName('app')\n",
    "\n",
    "    for setting, value in SPARK_CONFIG['settings'].items():\n",
    "        conf.set(setting, value)\n",
    "\n",
    "    sc = SparkContext(conf=conf)\n",
    "\n",
    "    return sc\n",
    "\n",
    "sc = init_spark_context()\n",
    "spark = SparkSession(sc)"
   ]
  },
  {
   "cell_type": "code",
   "execution_count": null,
   "id": "1f7972dd",
   "metadata": {},
   "outputs": [],
   "source": []
  },
  {
   "cell_type": "markdown",
   "id": "3d4125fc",
   "metadata": {},
   "source": [
    "## CSV to postgres demo"
   ]
  },
  {
   "cell_type": "code",
   "execution_count": null,
   "id": "b5478d7c",
   "metadata": {},
   "outputs": [],
   "source": [
    "# def get_mappings(spark:SparkSession):\n",
    "#     mapping_file_path = 'mapping/mapping.csv'\n",
    "#     mapping_df = spark.read.option('header',True).csv(mapping_file_path)\n",
    "#     source_column_list = list(mapping_df.select('source').toPandas()['source'])\n",
    "#     target_column_list = list(mapping_df.select('target').toPandas()['target'])\n",
    "#     source_target_dict = dict(zip(source_column_list, target_column_list))\n",
    "#     return source_target_dict"
   ]
  },
  {
   "cell_type": "code",
   "execution_count": null,
   "id": "e1edd4a0",
   "metadata": {},
   "outputs": [],
   "source": [
    "filename = 'sample.csv'\n",
    "delimiter =','\n",
    "# reading from source\n",
    "source_df = dbu.read_csv_file(spark, filename, delimiter)\n",
    "print(source_df.dtypes)\n",
    "\n",
    "mappings = dbu.mapping_generation(spark)\n",
    "columns_for_date_conversion = mappings['columns_for_date_conversion']\n",
    "source_to_target_mapping = mappings['source_target_column_mapping']\n",
    "# print(mappings)\n",
    "\n",
    "target_config = {\n",
    "\"url\" : \"jdbc:postgresql://localhost:5432/postgres\",\n",
    "\"driver\" : \"org.postgresql.Driver\",\n",
    "\"user\" : \"postgres\",\n",
    "\"password\" : \"admin\"}\n",
    "target_table=\"public.target_emp_details\"\n",
    "sql = ''\n",
    "# reading from target\n",
    "target_df = dbu.read_from_pg(spark, target_config, sql, target_table)\n",
    "print(target_df.dtypes)"
   ]
  },
  {
   "cell_type": "code",
   "execution_count": null,
   "id": "0f5d466b",
   "metadata": {},
   "outputs": [],
   "source": [
    "type_converted_df = dbu.convert_to_target_dtypes(source_df, target_df, source_to_target_mapping)"
   ]
  },
  {
   "cell_type": "code",
   "execution_count": null,
   "id": "a316bac1",
   "metadata": {},
   "outputs": [],
   "source": [
    "final_df = dbu.date_column_format_converter(spark, type_converted_df ,columns_for_date_conversion)"
   ]
  },
  {
   "cell_type": "code",
   "execution_count": null,
   "id": "1e0f749c",
   "metadata": {},
   "outputs": [],
   "source": [
    "final_df.show()"
   ]
  },
  {
   "cell_type": "code",
   "execution_count": null,
   "id": "81283e09",
   "metadata": {},
   "outputs": [],
   "source": [
    "dbu.write_to_pg(spark, final_df, target_config, target_table, 'append' )"
   ]
  },
  {
   "cell_type": "code",
   "execution_count": null,
   "id": "721d28a8",
   "metadata": {},
   "outputs": [],
   "source": []
  },
  {
   "cell_type": "code",
   "execution_count": null,
   "id": "a16fda30",
   "metadata": {},
   "outputs": [],
   "source": []
  },
  {
   "cell_type": "code",
   "execution_count": null,
   "id": "1370072e",
   "metadata": {},
   "outputs": [],
   "source": []
  },
  {
   "cell_type": "markdown",
   "id": "d9a34d26",
   "metadata": {},
   "source": [
    "## oracle to postgres demo"
   ]
  },
  {
   "cell_type": "code",
   "execution_count": null,
   "id": "8341a535",
   "metadata": {},
   "outputs": [],
   "source": [
    "# def get_mappings(spark:SparkSession):\n",
    "#     mapping_file_path = 'mapping/mapping_tg.csv'\n",
    "#     mapping_df = spark.read.option('header',True).csv(mapping_file_path)\n",
    "#     source_column_list = list(mapping_df.select('source').toPandas()['source'])\n",
    "#     target_column_list = list(mapping_df.select('target').toPandas()['target'])\n",
    "#     source_target_dict = dict(zip(source_column_list, target_column_list))\n",
    "#     return source_target_dict"
   ]
  },
  {
   "cell_type": "code",
   "execution_count": null,
   "id": "965a92af",
   "metadata": {},
   "outputs": [],
   "source": [
    "config = {\n",
    "\"url\" : \"jdbc:oracle:thin:@192.168.2.70:1521/PDB\",\n",
    "\"driver\" : \"oracle.jdbc.driver.OracleDriver\",\n",
    "\"user\" : \"cmx_ors\",\n",
    "\"password\" : \"cmx_ors\"}\n",
    "table= \"C_BO_ADDR\"\n",
    "sql=''\n",
    "# reading from source\n",
    "source_df = dbu.read_from_oracle(spark, config, '', table)\n",
    "source_df.dtypes\n",
    "\n",
    "target_config = {\n",
    "\"url\" : \"jdbc:postgresql://localhost:5432/postgres\",\n",
    "\"driver\" : \"org.postgresql.Driver\",\n",
    "\"user\" : \"postgres\",\n",
    "\"password\" : \"admin\"}\n",
    "target_table=\"public.source_address\"\n",
    "# reading from target to get schema\n",
    "target_df = dbu.read_from_pg(spark, target_config, sql, target_table)\n",
    "target_df.dtypes\n",
    "\n",
    "# getting source to target col mapping\n",
    "mappings = dbu.mapping_generation(spark)\n",
    "columns_for_date_conversion = mappings['columns_for_date_conversion']\n",
    "source_to_target_mapping = mappings['source_target_column_mapping']\n",
    "\n",
    "final_df = dbu.convert_to_target_dtypes(source_df, target_df, source_to_target_mapping)"
   ]
  },
  {
   "cell_type": "code",
   "execution_count": null,
   "id": "4a78b8d5",
   "metadata": {},
   "outputs": [],
   "source": [
    "final_df.show()"
   ]
  },
  {
   "cell_type": "code",
   "execution_count": null,
   "id": "692bef0d",
   "metadata": {},
   "outputs": [],
   "source": [
    "dbu.write_to_pg(spark, final_df, target_config, target_table, 'append' )"
   ]
  },
  {
   "cell_type": "code",
   "execution_count": null,
   "id": "95b3cc75",
   "metadata": {},
   "outputs": [],
   "source": []
  },
  {
   "cell_type": "code",
   "execution_count": 5,
   "id": "0e5036dd",
   "metadata": {},
   "outputs": [],
   "source": [
    "# source information\n",
    "source_name = 'manualfile'\n",
    "source_config = {}\n",
    "source_query = '' \n",
    "source_table = ''\n",
    "source_filename = 'sample.csv'\n",
    "source_delimiter = ','"
   ]
  },
  {
   "cell_type": "code",
   "execution_count": 6,
   "id": "baea1862",
   "metadata": {},
   "outputs": [],
   "source": [
    "# target information\n",
    "target_name = 'postgres'\n",
    "target_config = {\n",
    "\"url\" : \"jdbc:postgresql://localhost:5432/postgres\",\n",
    "\"driver\" : \"org.postgresql.Driver\",\n",
    "\"user\" : \"postgres\",\n",
    "\"password\" : \"admin\"}\n",
    "target_table = 'public.target_emp_details'\n",
    "target_filename = ''\n",
    "target_delimiter = ''"
   ]
  },
  {
   "cell_type": "code",
   "execution_count": 7,
   "id": "d17aa040",
   "metadata": {},
   "outputs": [
    {
     "name": "stdout",
     "output_type": "stream",
     "text": [
      "reading from file\n",
      "file read successfully, returning dataframe\n"
     ]
    }
   ],
   "source": [
    "# reading from source into source_df\n",
    "if source_name == 'oracle':\n",
    "    source_df = dbu.read_from_oracle(spark , source_config, source_query, source_table)\n",
    "    \n",
    "elif source_name == 'sqlserver':\n",
    "    source_df = dbu.read_from_msssql(spark , source_config, source_query, source_table)\n",
    "    \n",
    "elif source_name == 'postgres':\n",
    "    source_df = dbu.read_from_pg(spark , source_config, source_query, source_table)\n",
    "\n",
    "elif source_name == 'manualfile':\n",
    "    source_df = dbu.read_csv_file(spark , source_filename, source_delimiter)    "
   ]
  },
  {
   "cell_type": "code",
   "execution_count": 8,
   "id": "c50e8736",
   "metadata": {},
   "outputs": [
    {
     "name": "stdout",
     "output_type": "stream",
     "text": [
      "reading from postgresql\n",
      "reading directly from source table\n"
     ]
    }
   ],
   "source": [
    "#reading from target for target_df creation\n",
    "if target_name == 'oracle':\n",
    "    target_df = dbu.read_from_oracle(spark , target_config, '', target_table)\n",
    "    \n",
    "elif target_name == 'sqlserver':\n",
    "    target_df = dbu.read_from_msssql(spark , target_config, '', target_table)\n",
    "    \n",
    "elif target_name == 'postgres':\n",
    "    target_df = dbu.read_from_pg(spark , target_config, '', target_table)"
   ]
  },
  {
   "cell_type": "code",
   "execution_count": null,
   "id": "7f1d0158",
   "metadata": {},
   "outputs": [],
   "source": [
    "mapping_filename - 'mapping.csv'"
   ]
  },
  {
   "cell_type": "code",
   "execution_count": 9,
   "id": "e636625f",
   "metadata": {},
   "outputs": [],
   "source": [
    "mappings = dbu.mapping_generation(spark, mapping_filename)\n",
    "columns_for_date_conversion = mappings['columns_for_date_conversion']\n",
    "source_to_target_mapping = mappings['source_target_column_mapping']\n",
    "static_target_columns = mappings['static_target_columns']\n",
    "default_value_for_null_columns = mappings['default_value_for_null_columns']"
   ]
  },
  {
   "cell_type": "code",
   "execution_count": 10,
   "id": "3a1e8a60",
   "metadata": {},
   "outputs": [
    {
     "name": "stdout",
     "output_type": "stream",
     "text": [
      "fname\n",
      "lname\n",
      "age\n",
      "salary\n"
     ]
    }
   ],
   "source": [
    "type_converted_df = dbu.convert_to_target_dtypes(source_df, target_df, source_to_target_mapping)"
   ]
  },
  {
   "cell_type": "code",
   "execution_count": 11,
   "id": "8d0259c1",
   "metadata": {},
   "outputs": [],
   "source": [
    "date_converted_df = dbu.date_column_format_converter(type_converted_df ,columns_for_date_conversion)"
   ]
  },
  {
   "cell_type": "code",
   "execution_count": 12,
   "id": "879d7c33",
   "metadata": {},
   "outputs": [],
   "source": [
    "hard_coded_value_populated_df = dbu.populate_column_with_default_values(date_converted_df, static_target_columns)"
   ]
  },
  {
   "cell_type": "code",
   "execution_count": 13,
   "id": "34d8f4fd",
   "metadata": {},
   "outputs": [],
   "source": [
    "fill_na_dict = dbu.create_fill_na_dict(default_value_for_null_columns)\n",
    "null_populated_df = dbu.populate_null_values(hard_coded_value_populated_df, fill_na_dict)"
   ]
  },
  {
   "cell_type": "code",
   "execution_count": 15,
   "id": "2eace065",
   "metadata": {},
   "outputs": [
    {
     "name": "stdout",
     "output_type": "stream",
     "text": [
      "+-------+----------+---+----------+---------+-----------+\n",
      "|  fname|     lname|age|       dob|   salary|source_name|\n",
      "+-------+----------+---+----------+---------+-----------+\n",
      "|Charles|Richardson| 23|1999-03-12|  20000.0|   csv file|\n",
      "|    Joy|   Gerrard| 19|2001-12-13|  30000.0|   csv file|\n",
      "|   Rick|      Sera| 20|2000-07-08|   1200.0|   csv file|\n",
      "|  Jason|       Roy| 24|1998-05-07| 149000.0|   csv file|\n",
      "|    Jos|    Butler| 26|1996-12-09|  87000.0|   csv file|\n",
      "|  Steve|     Smith| 20|2000-12-25|  20000.0|   csv file|\n",
      "| Selena|  Williams| 23|1999-05-15|  29870.0|   csv file|\n",
      "| Winnie|       Reg| 27|1995-04-12|  23769.0|   csv file|\n",
      "| Junior|      Hila| 23|1999-03-18| 909876.0|   csv file|\n",
      "|  David|     Bella| 22|2000-02-29|1100000.0|   csv file|\n",
      "|   Vish|         D|  0|1998-02-21|      0.0|   csv file|\n",
      "+-------+----------+---+----------+---------+-----------+\n",
      "\n"
     ]
    }
   ],
   "source": [
    "null_populated_df.show()"
   ]
  },
  {
   "cell_type": "code",
   "execution_count": 17,
   "id": "b98cb658",
   "metadata": {},
   "outputs": [],
   "source": [
    "target_write_mode ='append'"
   ]
  },
  {
   "cell_type": "code",
   "execution_count": 23,
   "id": "c27d06b4",
   "metadata": {},
   "outputs": [],
   "source": [
    "if target_name == 'oracle':\n",
    "    dbu.write_to_oracle(spark, null_populated_df, target_config, target_table, target_write_mode) \n",
    "    \n",
    "elif target_name == 'sqlserver':\n",
    "    dbu.write_to_mssql(spark, null_populated_df, target_config, target_table, target_write_mode) \n",
    "    \n",
    "elif target_name == 'postgres':\n",
    "    dbu.write_to_pg(spark, null_populated_df, target_config, target_table, target_write_mode) \n",
    "    \n",
    "elif target_name == 'manualfile':\n",
    "    dbu.write_to_csv(null_populated_df, target_filename, target_delimiter)"
   ]
  },
  {
   "cell_type": "code",
   "execution_count": 22,
   "id": "3ac40b52",
   "metadata": {},
   "outputs": [
    {
     "data": {
      "text/plain": [
       "'Data written into postgresql successfully'"
      ]
     },
     "execution_count": 22,
     "metadata": {},
     "output_type": "execute_result"
    }
   ],
   "source": []
  },
  {
   "cell_type": "code",
   "execution_count": null,
   "id": "31fdf446",
   "metadata": {},
   "outputs": [],
   "source": []
  }
 ],
 "metadata": {
  "kernelspec": {
   "display_name": "Python 3 (ipykernel)",
   "language": "python",
   "name": "python3"
  },
  "language_info": {
   "codemirror_mode": {
    "name": "ipython",
    "version": 3
   },
   "file_extension": ".py",
   "mimetype": "text/x-python",
   "name": "python",
   "nbconvert_exporter": "python",
   "pygments_lexer": "ipython3",
   "version": "3.9.12"
  }
 },
 "nbformat": 4,
 "nbformat_minor": 5
}
