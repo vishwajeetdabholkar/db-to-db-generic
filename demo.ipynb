{
 "cells": [
  {
   "cell_type": "code",
   "execution_count": 1,
   "id": "79311c30",
   "metadata": {},
   "outputs": [],
   "source": [
    "import pyspark\n",
    "from pyspark.sql import SparkSession\n",
    "from pyspark import SparkContext, SparkConf \n",
    "from pyspark.sql.functions import * \n",
    "from pyspark.sql import DataFrame\n",
    "from logging import Logger\n",
    "import os\n",
    "import json"
   ]
  },
  {
   "cell_type": "code",
   "execution_count": 2,
   "id": "d0429da4",
   "metadata": {},
   "outputs": [
    {
     "name": "stdout",
     "output_type": "stream",
     "text": [
      "importing Jupyter notebook from db_utils.ipynb\n"
     ]
    }
   ],
   "source": [
    "import import_ipynb\n",
    "import db_utils as dbu"
   ]
  },
  {
   "cell_type": "code",
   "execution_count": 3,
   "id": "63d85958",
   "metadata": {},
   "outputs": [],
   "source": [
    "SPARK_CONFIG = {\n",
    "    \"MASTER\": \"local[*]\",\n",
    "    \"settings\": {\n",
    "      \"spark.executor.cores\": \"1\",\n",
    "      \"spark.executor.memory\": \"1g\",\n",
    "      \"spark.driver.cores\": \"1\",\n",
    "      \"spark.driver.memory\": \"1g\",\n",
    "      \"spark.cores.max\": \"1\"\n",
    "    }\n",
    "}"
   ]
  },
  {
   "cell_type": "code",
   "execution_count": 4,
   "id": "83630ea6",
   "metadata": {},
   "outputs": [],
   "source": [
    "def init_spark_context() -> SparkContext:\n",
    "    \"\"\" init spark context \"\"\"\n",
    "\n",
    "    # os.environ['PYSPARK_SUBMIT_ARGS'] = f'--jars jars/postgresql-42.5.0 pyspark-shell'\n",
    "    conf = SparkConf()\n",
    "    conf.setMaster(SPARK_CONFIG['MASTER'])\n",
    "    conf.setAppName('app')\n",
    "\n",
    "    for setting, value in SPARK_CONFIG['settings'].items():\n",
    "        conf.set(setting, value)\n",
    "\n",
    "    sc = SparkContext(conf=conf)\n",
    "\n",
    "    return sc\n",
    "\n",
    "sc = init_spark_context()\n",
    "spark = SparkSession(sc)"
   ]
  },
  {
   "cell_type": "code",
   "execution_count": 14,
   "id": "24a7b77c",
   "metadata": {},
   "outputs": [],
   "source": []
  },
  {
   "cell_type": "markdown",
   "id": "50cf1e07",
   "metadata": {},
   "source": [
    "## CSV to postgres demo"
   ]
  },
  {
   "cell_type": "code",
   "execution_count": 15,
   "id": "94885b79",
   "metadata": {},
   "outputs": [],
   "source": [
    "def get_mappings(spark:SparkSession):\n",
    "    mapping_file_path = 'mapping/mapping.csv'\n",
    "    mapping_df = spark.read.option('header',True).csv(mapping_file_path)\n",
    "    source_column_list = list(mapping_df.select('source').toPandas()['source'])\n",
    "    target_column_list = list(mapping_df.select('target').toPandas()['target'])\n",
    "    source_target_dict = dict(zip(source_column_list, target_column_list))\n",
    "    return source_target_dict\n"
   ]
  },
  {
   "cell_type": "code",
   "execution_count": 6,
   "id": "fe1a75c5",
   "metadata": {},
   "outputs": [
    {
     "name": "stdout",
     "output_type": "stream",
     "text": [
      "reading from file\n",
      "file read successfully, returning dataframe\n"
     ]
    },
    {
     "data": {
      "text/plain": [
       "[('F_Name', 'string'),\n",
       " ('L_Name', 'string'),\n",
       " ('age', 'string'),\n",
       " ('dob', 'string'),\n",
       " ('salary', 'string')]"
      ]
     },
     "execution_count": 6,
     "metadata": {},
     "output_type": "execute_result"
    }
   ],
   "source": [
    "filename = 'sample.csv'\n",
    "delimiter =','\n",
    "# reading from source\n",
    "source_df = dbu.read_csv_file(spark, filename, delimiter)\n",
    "print(source_df.dtypes)\n",
    "\n",
    "mappings = get_mappings(spark)\n",
    "print(mappings)\n",
    "\n",
    "target_config = {\n",
    "\"url\" : \"jdbc:postgresql://localhost:5432/postgres\",\n",
    "\"driver\" : \"org.postgresql.Driver\",\n",
    "\"user\" : \"postgres\",\n",
    "\"password\" : \"admin\"}\n",
    "target_table=\"public.target_emp_details\"\n",
    "sql = ''\n",
    "# reading from target\n",
    "target_df = dbu.read_from_pg(spark, target_config, sql, target_table)\n",
    "target_df.dtypes\n",
    "\n",
    "source_date_format = 'dd-MM-yyyy'\n",
    "target_date_format = 'yyyy-MM-dd'\n",
    "\n",
    "final_df = dbu.convert_to_target_dtypes(source_df, target_df, mappings, source_date_format, target_date_format)"
   ]
  },
  {
   "cell_type": "code",
   "execution_count": null,
   "id": "45a4a045",
   "metadata": {},
   "outputs": [],
   "source": [
    "dbu.write_to_pg(spark, final_df, target_config, target_table, 'append' )"
   ]
  },
  {
   "cell_type": "code",
   "execution_count": 8,
   "id": "934a1ad3",
   "metadata": {},
   "outputs": [],
   "source": []
  },
  {
   "cell_type": "code",
   "execution_count": null,
   "id": "4bd60f8f",
   "metadata": {},
   "outputs": [],
   "source": []
  },
  {
   "cell_type": "code",
   "execution_count": null,
   "id": "f9d9db64",
   "metadata": {},
   "outputs": [],
   "source": []
  },
  {
   "cell_type": "code",
   "execution_count": null,
   "id": "bdc5719d",
   "metadata": {},
   "outputs": [],
   "source": []
  },
  {
   "cell_type": "markdown",
   "id": "fd4c182f",
   "metadata": {},
   "source": [
    "## oracle to postgres demo"
   ]
  },
  {
   "cell_type": "code",
   "execution_count": null,
   "id": "f6f0c57e",
   "metadata": {},
   "outputs": [],
   "source": [
    "def get_mappings(spark:SparkSession):\n",
    "    mapping_file_path = 'mapping/mapping_tg.csv'\n",
    "    mapping_df = spark.read.option('header',True).csv(mapping_file_path)\n",
    "    source_column_list = list(mapping_df.select('source').toPandas()['source'])\n",
    "    target_column_list = list(mapping_df.select('target').toPandas()['target'])\n",
    "    source_target_dict = dict(zip(source_column_list, target_column_list))\n",
    "    return source_target_dict"
   ]
  },
  {
   "cell_type": "code",
   "execution_count": null,
   "id": "77fab339",
   "metadata": {},
   "outputs": [],
   "source": [
    "config = {\n",
    "\"url\" : \"jdbc:oracle:thin:@192.168.2.70:1521/PDB\",\n",
    "\"driver\" : \"oracle.jdbc.driver.OracleDriver\",\n",
    "\"user\" : \"cmx_ors\",\n",
    "\"password\" : \"cmx_ors\"}\n",
    "table= \"C_BO_ADDR\"\n",
    "sql=''\n",
    "# reading from source\n",
    "source_df = dbu.read_from_oracle(spark, config, '', table)\n",
    "source_df.dtypes\n",
    "\n",
    "\n",
    "target_config = {\n",
    "\"url\" : \"jdbc:postgresql://localhost:5432/postgres\",\n",
    "\"driver\" : \"org.postgresql.Driver\",\n",
    "\"user\" : \"postgres\",\n",
    "\"password\" : \"admin\"}\n",
    "target_table=\"public.source_address\"\n",
    "# reading from target to get schema\n",
    "target_df = dbu.read_from_pg(spark, target_config, sql, target_table)\n",
    "target_df.dtypes\n",
    "\n",
    "# getting source to target col mapping\n",
    "mappings = get_mappings(spark)\n",
    "print(mappings)\n",
    "date_format = 'yyyy-MM-dd'\n",
    "target_date_format = 'yyyy-MM-dd'\n",
    "\n",
    "final_df = dbu.convert_to_target_dtypes(source_df, target_df, mappings, date_format, target_date_format)"
   ]
  },
  {
   "cell_type": "code",
   "execution_count": null,
   "id": "c03286d5",
   "metadata": {},
   "outputs": [],
   "source": [
    "dbu.write_to_pg(spark, final_df, target_config, target_table, 'append' )"
   ]
  },
  {
   "cell_type": "code",
   "execution_count": null,
   "id": "f1a6e850",
   "metadata": {},
   "outputs": [],
   "source": []
  }
 ],
 "metadata": {
  "kernelspec": {
   "display_name": "Python 3 (ipykernel)",
   "language": "python",
   "name": "python3"
  },
  "language_info": {
   "codemirror_mode": {
    "name": "ipython",
    "version": 3
   },
   "file_extension": ".py",
   "mimetype": "text/x-python",
   "name": "python",
   "nbconvert_exporter": "python",
   "pygments_lexer": "ipython3",
   "version": "3.9.12"
  }
 },
 "nbformat": 4,
 "nbformat_minor": 5
}
