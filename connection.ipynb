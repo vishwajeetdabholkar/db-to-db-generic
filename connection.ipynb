{
 "cells": [
  {
   "cell_type": "code",
   "execution_count": 1,
   "id": "23ce84e0",
   "metadata": {},
   "outputs": [],
   "source": [
    "import psycopg2\n",
    "import pyodbc \n",
    "import cx_Oracle"
   ]
  },
  {
   "cell_type": "code",
   "execution_count": 8,
   "id": "5ef4307e",
   "metadata": {},
   "outputs": [],
   "source": [
    "def connect_to_pgsql(database, user, password, host, port):\n",
    "    \"\"\"\n",
    "    Function to check connection of postgresql\n",
    "    Args:\n",
    "        database: the name of the database that you want to connect.\n",
    "        user: the username used to authenticate.\n",
    "        password: password used to authenticate.\n",
    "        host: database server address e.g., localhost or an IP address.\n",
    "        port: the port number that defaults to 5432 if it is not provided.\n",
    "    Returns the db details\n",
    "    \"\"\"\n",
    "    conn = None\n",
    "    try:\n",
    "        print('Connecting to the PostgreSQL database...')\n",
    "        conn = psycopg2.connect(\n",
    "                host=host,\n",
    "                database=database,\n",
    "                user=user,\n",
    "                password=password)\n",
    "        cur = conn.cursor()\n",
    "        print(\"connection successful\")\n",
    "        cur.close()\n",
    "    except (Exception, psycopg2.DatabaseError) as error:\n",
    "        print(error)\n",
    "    finally:\n",
    "        if conn is not None:\n",
    "            conn.close()\n",
    "            print('Database connection closed.')"
   ]
  },
  {
   "cell_type": "code",
   "execution_count": 3,
   "id": "df6cbbd8",
   "metadata": {},
   "outputs": [],
   "source": [
    "def connect_to_mssql(database, user, password, host, port):\n",
    "    \"\"\"\n",
    "    Function to check connection of mssql\n",
    "    Args:\n",
    "        database: the name of the database that you want to connect.\n",
    "        user: the username used to authenticate.\n",
    "        password: password used to authenticate.\n",
    "        host: database server address e.g., localhost or an IP address.\n",
    "        port: the port number  \n",
    "    note : \n",
    "        {ODBC Driver 18 for SQL Server} - supports SQL Server 2012 through 2019\n",
    "        {ODBC Driver 13 for SQL Server} - supports SQL Server 2005 through 2016\n",
    "    Returns the db details\n",
    "    \"\"\"\n",
    "    conn = None\n",
    "    try:\n",
    "        print('Connecting to the SQL Server database...')\n",
    "        conn = pyodbc.connect(\n",
    "                \"Driver={ODBC Driver 18 for SQL Server};\"\n",
    "                        f\"Server={host};\"\n",
    "                        f\"Database={database};\"\n",
    "                        f\"uid={user};pwd={password}\")\n",
    "        cur = conn.cursor()\n",
    "        print(\"connection successful\")\n",
    "        cur.close()\n",
    "    except (Exception, psycopg2.DatabaseError) as error:\n",
    "        print(error)\n",
    "    finally:\n",
    "        if conn is not None:\n",
    "            conn.close()\n",
    "            print('Database connection closed.')"
   ]
  },
  {
   "cell_type": "code",
   "execution_count": 17,
   "id": "ef1682b3",
   "metadata": {},
   "outputs": [],
   "source": [
    "def connect_to_oracle(username, password, dsn):\n",
    "    \"\"\"\n",
    "    Function to check connection of oracle\n",
    "    Args:\n",
    "        dsn: the url which forms with following \n",
    "            `hostname:port/databse`\n",
    "        username: the username used to authenticate.\n",
    "        password: password used to authenticate.\n",
    "\n",
    "    Returns the db details\n",
    "    \"\"\"\n",
    "    conn = None\n",
    "    try:\n",
    "        print('Connecting to the SQL Server database...')\n",
    "        conn = cx_Oracle.connect(user=username, \n",
    "                                 password=password,\n",
    "                               dsn=dsn,\n",
    "                               encoding=\"UTF-8\")\n",
    "        cur = conn.cursor()\n",
    "        print(\"connection successful\")\n",
    "        cur.close()\n",
    "    except (Exception, psycopg2.DatabaseError) as error:\n",
    "        print(error)\n",
    "    finally:\n",
    "        if conn is not None:\n",
    "            conn.close()\n",
    "            print('Database connection closed.')"
   ]
  },
  {
   "cell_type": "code",
   "execution_count": null,
   "id": "b0e4164a",
   "metadata": {
    "scrolled": true
   },
   "outputs": [],
   "source": []
  },
  {
   "cell_type": "code",
   "execution_count": 20,
   "id": "bef29b07",
   "metadata": {},
   "outputs": [],
   "source": [
    "# connect_to_pgsql('dbt-workshop', 'postgres', 'admin', 'localhost', '5432')"
   ]
  },
  {
   "cell_type": "code",
   "execution_count": 19,
   "id": "fcbe79bb",
   "metadata": {},
   "outputs": [],
   "source": [
    "# username = 'cmx_ors'\n",
    "# password = 'cmx_ors'\n",
    "# dsn = '192.168.2.70:1521/PDB'\n",
    "# connect_to_oracle(username, password, dsn)"
   ]
  },
  {
   "cell_type": "code",
   "execution_count": null,
   "id": "7755d95c",
   "metadata": {},
   "outputs": [],
   "source": []
  },
  {
   "cell_type": "code",
   "execution_count": null,
   "id": "8d405d63",
   "metadata": {},
   "outputs": [],
   "source": []
  }
 ],
 "metadata": {
  "kernelspec": {
   "display_name": "Python 3 (ipykernel)",
   "language": "python",
   "name": "python3"
  },
  "language_info": {
   "codemirror_mode": {
    "name": "ipython",
    "version": 3
   },
   "file_extension": ".py",
   "mimetype": "text/x-python",
   "name": "python",
   "nbconvert_exporter": "python",
   "pygments_lexer": "ipython3",
   "version": "3.9.12"
  }
 },
 "nbformat": 4,
 "nbformat_minor": 5
}
